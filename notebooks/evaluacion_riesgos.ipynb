{
 "cells": [
  {
   "cell_type": "markdown",
   "id": "64b90940",
   "metadata": {},
   "source": [
    "# Evaluación de riesgos de proveedores"
   ]
  },
  {
   "cell_type": "markdown",
   "id": "52916315",
   "metadata": {},
   "source": [
    "Este notebook analiza los riesgos no financieros asociados a proveedores externos, usando un dataset simulado."
   ]
  },
  {
   "cell_type": "code",
   "execution_count": 3,
   "id": "e43e5d11",
   "metadata": {},
   "outputs": [],
   "source": [
    "import pandas as pd\n",
    "import matplotlib.pyplot as plt\n",
    "import seaborn as sns"
   ]
  },
  {
   "cell_type": "code",
   "execution_count": 4,
   "id": "a4317eb6",
   "metadata": {},
   "outputs": [
    {
     "data": {
      "text/html": [
       "<div>\n",
       "<style scoped>\n",
       "    .dataframe tbody tr th:only-of-type {\n",
       "        vertical-align: middle;\n",
       "    }\n",
       "\n",
       "    .dataframe tbody tr th {\n",
       "        vertical-align: top;\n",
       "    }\n",
       "\n",
       "    .dataframe thead th {\n",
       "        text-align: right;\n",
       "    }\n",
       "</style>\n",
       "<table border=\"1\" class=\"dataframe\">\n",
       "  <thead>\n",
       "    <tr style=\"text-align: right;\">\n",
       "      <th></th>\n",
       "      <th>ID_proveedor</th>\n",
       "      <th>Nombre_proveedor</th>\n",
       "      <th>Tipo_servicio</th>\n",
       "      <th>Riesgo_operativo</th>\n",
       "      <th>Riesgo_tecnologico</th>\n",
       "      <th>Riesgo_legal</th>\n",
       "      <th>Riesgo_ciberseguridad</th>\n",
       "      <th>Incidentes_previos</th>\n",
       "      <th>Cumple_normativas</th>\n",
       "    </tr>\n",
       "  </thead>\n",
       "  <tbody>\n",
       "    <tr>\n",
       "      <th>0</th>\n",
       "      <td>P0001</td>\n",
       "      <td>Proveedor_1</td>\n",
       "      <td>ConsultorÃ­a</td>\n",
       "      <td>4</td>\n",
       "      <td>1</td>\n",
       "      <td>1</td>\n",
       "      <td>4</td>\n",
       "      <td>0</td>\n",
       "      <td>SÃ­</td>\n",
       "    </tr>\n",
       "    <tr>\n",
       "      <th>1</th>\n",
       "      <td>P0002</td>\n",
       "      <td>Proveedor_2</td>\n",
       "      <td>Infraestructura TI</td>\n",
       "      <td>2</td>\n",
       "      <td>1</td>\n",
       "      <td>1</td>\n",
       "      <td>3</td>\n",
       "      <td>0</td>\n",
       "      <td>SÃ­</td>\n",
       "    </tr>\n",
       "    <tr>\n",
       "      <th>2</th>\n",
       "      <td>P0003</td>\n",
       "      <td>Proveedor_3</td>\n",
       "      <td>Seguridad</td>\n",
       "      <td>4</td>\n",
       "      <td>4</td>\n",
       "      <td>1</td>\n",
       "      <td>3</td>\n",
       "      <td>2</td>\n",
       "      <td>SÃ­</td>\n",
       "    </tr>\n",
       "    <tr>\n",
       "      <th>3</th>\n",
       "      <td>P0004</td>\n",
       "      <td>Proveedor_4</td>\n",
       "      <td>Seguridad</td>\n",
       "      <td>4</td>\n",
       "      <td>4</td>\n",
       "      <td>5</td>\n",
       "      <td>1</td>\n",
       "      <td>2</td>\n",
       "      <td>SÃ­</td>\n",
       "    </tr>\n",
       "    <tr>\n",
       "      <th>4</th>\n",
       "      <td>P0005</td>\n",
       "      <td>Proveedor_5</td>\n",
       "      <td>Soporte</td>\n",
       "      <td>3</td>\n",
       "      <td>3</td>\n",
       "      <td>1</td>\n",
       "      <td>4</td>\n",
       "      <td>0</td>\n",
       "      <td>SÃ­</td>\n",
       "    </tr>\n",
       "  </tbody>\n",
       "</table>\n",
       "</div>"
      ],
      "text/plain": [
       "  ID_proveedor Nombre_proveedor       Tipo_servicio  Riesgo_operativo  \\\n",
       "0        P0001      Proveedor_1        ConsultorÃ­a                 4   \n",
       "1        P0002      Proveedor_2  Infraestructura TI                 2   \n",
       "2        P0003      Proveedor_3           Seguridad                 4   \n",
       "3        P0004      Proveedor_4           Seguridad                 4   \n",
       "4        P0005      Proveedor_5             Soporte                 3   \n",
       "\n",
       "   Riesgo_tecnologico  Riesgo_legal  Riesgo_ciberseguridad  \\\n",
       "0                   1             1                      4   \n",
       "1                   1             1                      3   \n",
       "2                   4             1                      3   \n",
       "3                   4             5                      1   \n",
       "4                   3             1                      4   \n",
       "\n",
       "   Incidentes_previos Cumple_normativas  \n",
       "0                   0               SÃ­  \n",
       "1                   0               SÃ­  \n",
       "2                   2               SÃ­  \n",
       "3                   2               SÃ­  \n",
       "4                   0               SÃ­  "
      ]
     },
     "execution_count": 4,
     "metadata": {},
     "output_type": "execute_result"
    }
   ],
   "source": [
    "# Cargar dataset\n",
    "df = pd.read_csv('/workspaces/Evaluacn-de-riesgos/data/proveedores.csv')\n",
    "df.head()"
   ]
  },
  {
   "cell_type": "markdown",
   "id": "83c0da7a",
   "metadata": {},
   "source": [
    "# Cálculo de Score Total de Riesgo"
   ]
  },
  {
   "cell_type": "code",
   "execution_count": 5,
   "id": "1444de8d",
   "metadata": {},
   "outputs": [
    {
     "data": {
      "text/html": [
       "<div>\n",
       "<style scoped>\n",
       "    .dataframe tbody tr th:only-of-type {\n",
       "        vertical-align: middle;\n",
       "    }\n",
       "\n",
       "    .dataframe tbody tr th {\n",
       "        vertical-align: top;\n",
       "    }\n",
       "\n",
       "    .dataframe thead th {\n",
       "        text-align: right;\n",
       "    }\n",
       "</style>\n",
       "<table border=\"1\" class=\"dataframe\">\n",
       "  <thead>\n",
       "    <tr style=\"text-align: right;\">\n",
       "      <th></th>\n",
       "      <th>ID_proveedor</th>\n",
       "      <th>Nombre_proveedor</th>\n",
       "      <th>Score_total</th>\n",
       "    </tr>\n",
       "  </thead>\n",
       "  <tbody>\n",
       "    <tr>\n",
       "      <th>0</th>\n",
       "      <td>P0001</td>\n",
       "      <td>Proveedor_1</td>\n",
       "      <td>2.50</td>\n",
       "    </tr>\n",
       "    <tr>\n",
       "      <th>1</th>\n",
       "      <td>P0002</td>\n",
       "      <td>Proveedor_2</td>\n",
       "      <td>1.75</td>\n",
       "    </tr>\n",
       "    <tr>\n",
       "      <th>2</th>\n",
       "      <td>P0003</td>\n",
       "      <td>Proveedor_3</td>\n",
       "      <td>3.00</td>\n",
       "    </tr>\n",
       "    <tr>\n",
       "      <th>3</th>\n",
       "      <td>P0004</td>\n",
       "      <td>Proveedor_4</td>\n",
       "      <td>3.50</td>\n",
       "    </tr>\n",
       "    <tr>\n",
       "      <th>4</th>\n",
       "      <td>P0005</td>\n",
       "      <td>Proveedor_5</td>\n",
       "      <td>2.75</td>\n",
       "    </tr>\n",
       "  </tbody>\n",
       "</table>\n",
       "</div>"
      ],
      "text/plain": [
       "  ID_proveedor Nombre_proveedor  Score_total\n",
       "0        P0001      Proveedor_1         2.50\n",
       "1        P0002      Proveedor_2         1.75\n",
       "2        P0003      Proveedor_3         3.00\n",
       "3        P0004      Proveedor_4         3.50\n",
       "4        P0005      Proveedor_5         2.75"
      ]
     },
     "execution_count": 5,
     "metadata": {},
     "output_type": "execute_result"
    }
   ],
   "source": [
    "df['Score_total'] = df[['Riesgo_operativo', 'Riesgo_tecnologico', 'Riesgo_legal', 'Riesgo_ciberseguridad']].mean(axis=1)\n",
    "df[['ID_proveedor', 'Nombre_proveedor', 'Score_total']].head()"
   ]
  },
  {
   "cell_type": "markdown",
   "id": "a3269067",
   "metadata": {},
   "source": [
    "# Identificación de Proveedores Críticos"
   ]
  },
  {
   "cell_type": "code",
   "execution_count": 6,
   "id": "1f9dca36",
   "metadata": {},
   "outputs": [
    {
     "data": {
      "text/html": [
       "<div>\n",
       "<style scoped>\n",
       "    .dataframe tbody tr th:only-of-type {\n",
       "        vertical-align: middle;\n",
       "    }\n",
       "\n",
       "    .dataframe tbody tr th {\n",
       "        vertical-align: top;\n",
       "    }\n",
       "\n",
       "    .dataframe thead th {\n",
       "        text-align: right;\n",
       "    }\n",
       "</style>\n",
       "<table border=\"1\" class=\"dataframe\">\n",
       "  <thead>\n",
       "    <tr style=\"text-align: right;\">\n",
       "      <th></th>\n",
       "      <th>ID_proveedor</th>\n",
       "      <th>Nombre_proveedor</th>\n",
       "      <th>Score_total</th>\n",
       "      <th>Cumple_normativas</th>\n",
       "    </tr>\n",
       "  </thead>\n",
       "  <tbody>\n",
       "    <tr>\n",
       "      <th>9</th>\n",
       "      <td>P0010</td>\n",
       "      <td>Proveedor_10</td>\n",
       "      <td>3.50</td>\n",
       "      <td>No</td>\n",
       "    </tr>\n",
       "    <tr>\n",
       "      <th>11</th>\n",
       "      <td>P0012</td>\n",
       "      <td>Proveedor_12</td>\n",
       "      <td>3.50</td>\n",
       "      <td>No</td>\n",
       "    </tr>\n",
       "    <tr>\n",
       "      <th>12</th>\n",
       "      <td>P0013</td>\n",
       "      <td>Proveedor_13</td>\n",
       "      <td>3.75</td>\n",
       "      <td>No</td>\n",
       "    </tr>\n",
       "    <tr>\n",
       "      <th>19</th>\n",
       "      <td>P0020</td>\n",
       "      <td>Proveedor_20</td>\n",
       "      <td>4.75</td>\n",
       "      <td>SÃ­</td>\n",
       "    </tr>\n",
       "    <tr>\n",
       "      <th>37</th>\n",
       "      <td>P0038</td>\n",
       "      <td>Proveedor_38</td>\n",
       "      <td>3.00</td>\n",
       "      <td>No</td>\n",
       "    </tr>\n",
       "    <tr>\n",
       "      <th>...</th>\n",
       "      <td>...</td>\n",
       "      <td>...</td>\n",
       "      <td>...</td>\n",
       "      <td>...</td>\n",
       "    </tr>\n",
       "    <tr>\n",
       "      <th>473</th>\n",
       "      <td>P0474</td>\n",
       "      <td>Proveedor_474</td>\n",
       "      <td>3.50</td>\n",
       "      <td>No</td>\n",
       "    </tr>\n",
       "    <tr>\n",
       "      <th>478</th>\n",
       "      <td>P0479</td>\n",
       "      <td>Proveedor_479</td>\n",
       "      <td>3.50</td>\n",
       "      <td>No</td>\n",
       "    </tr>\n",
       "    <tr>\n",
       "      <th>488</th>\n",
       "      <td>P0489</td>\n",
       "      <td>Proveedor_489</td>\n",
       "      <td>2.25</td>\n",
       "      <td>No</td>\n",
       "    </tr>\n",
       "    <tr>\n",
       "      <th>492</th>\n",
       "      <td>P0493</td>\n",
       "      <td>Proveedor_493</td>\n",
       "      <td>2.75</td>\n",
       "      <td>No</td>\n",
       "    </tr>\n",
       "    <tr>\n",
       "      <th>494</th>\n",
       "      <td>P0495</td>\n",
       "      <td>Proveedor_495</td>\n",
       "      <td>3.00</td>\n",
       "      <td>No</td>\n",
       "    </tr>\n",
       "  </tbody>\n",
       "</table>\n",
       "<p>120 rows × 4 columns</p>\n",
       "</div>"
      ],
      "text/plain": [
       "    ID_proveedor Nombre_proveedor  Score_total Cumple_normativas\n",
       "9          P0010     Proveedor_10         3.50                No\n",
       "11         P0012     Proveedor_12         3.50                No\n",
       "12         P0013     Proveedor_13         3.75                No\n",
       "19         P0020     Proveedor_20         4.75               SÃ­\n",
       "37         P0038     Proveedor_38         3.00                No\n",
       "..           ...              ...          ...               ...\n",
       "473        P0474    Proveedor_474         3.50                No\n",
       "478        P0479    Proveedor_479         3.50                No\n",
       "488        P0489    Proveedor_489         2.25                No\n",
       "492        P0493    Proveedor_493         2.75                No\n",
       "494        P0495    Proveedor_495         3.00                No\n",
       "\n",
       "[120 rows x 4 columns]"
      ]
     },
     "execution_count": 6,
     "metadata": {},
     "output_type": "execute_result"
    }
   ],
   "source": [
    "criticos = df[(df['Score_total'] > 4) | (df['Cumple_normativas'] == 'No')]\n",
    "criticos[['ID_proveedor', 'Nombre_proveedor', 'Score_total', 'Cumple_normativas']]"
   ]
  },
  {
   "cell_type": "markdown",
   "id": "d92911d6",
   "metadata": {},
   "source": [
    "Indicadores clave de Riesgo (KRI)"
   ]
  },
  {
   "cell_type": "code",
   "execution_count": 7,
   "id": "f272bd7d",
   "metadata": {},
   "outputs": [
    {
     "data": {
      "text/plain": [
       "Promedio_riesgo_operativo           2.950\n",
       "Promedio_riesgo_tecnologico         3.016\n",
       "Promedio_riesgo_legal               3.060\n",
       "Promedio_riesgo_ciberseguridad      3.038\n",
       "Porcentaje_cumplimiento             0.000\n",
       "Total_incidentes                  541.000\n",
       "dtype: float64"
      ]
     },
     "execution_count": 7,
     "metadata": {},
     "output_type": "execute_result"
    }
   ],
   "source": [
    "indicadores = {\n",
    "    'Promedio_riesgo_operativo': df['Riesgo_operativo'].mean(),\n",
    "    'Promedio_riesgo_tecnologico': df['Riesgo_tecnologico'].mean(),\n",
    "    'Promedio_riesgo_legal': df['Riesgo_legal'].mean(),\n",
    "    'Promedio_riesgo_ciberseguridad': df['Riesgo_ciberseguridad'].mean(),\n",
    "    'Porcentaje_cumplimiento': (df['Cumple_normativas'] == 'Sí').mean() * 100,\n",
    "    'Total_incidentes': df['Incidentes_previos'].sum()\n",
    "}\n",
    "pd.Series(indicadores)"
   ]
  },
  {
   "cell_type": "markdown",
   "id": "5d0423ce",
   "metadata": {},
   "source": [
    "# Viasualización de Riesgos Promedio por Tipo"
   ]
  },
  {
   "cell_type": "code",
   "execution_count": 8,
   "id": "b77468a8",
   "metadata": {},
   "outputs": [
    {
     "data": {
      "image/png": "[encoded data removed]",
      "text/plain": [
       "<Figure size 800x500 with 1 Axes>"
      ]
     },
     "metadata": {},
     "output_type": "display_data"
    }
   ],
   "source": [
    "riesgos = df[['Riesgo_operativo', 'Riesgo_tecnologico', 'Riesgo_legal', 'Riesgo_ciberseguridad']].mean()\n",
    "riesgos.plot(kind='bar', figsize=(8,5), title='Promedio de Riesgo por Categoría')\n",
    "plt.ylabel('Nivel de riesgo')\n",
    "plt.show()"
   ]
  },
  {
   "cell_type": "markdown",
   "id": "188ece77",
   "metadata": {},
   "source": [
    "# Exportar en Excel"
   ]
  },
  {
   "cell_type": "code",
   "execution_count": 4,
   "id": "54debbfb",
   "metadata": {},
   "outputs": [
    {
     "data": {
      "text/plain": [
       "'%pip install openpyxl'"
      ]
     },
     "execution_count": 4,
     "metadata": {},
     "output_type": "execute_result"
    }
   ],
   "source": [
    "\"%pip install openpyxl\""
   ]
  },
  {
   "cell_type": "code",
   "execution_count": 11,
   "id": "e7a50da1",
   "metadata": {},
   "outputs": [
    {
     "name": "stdout",
     "output_type": "stream",
     "text": [
      "✅ Reporte exportado exitosamente.\n"
     ]
    }
   ],
   "source": [
    "with pd.ExcelWriter('/workspaces/Evaluacn-de-riesgos/reports/reporte_riesgos.xlsx') as writer:\n",
    "    df.to_excel(writer, sheet_name='Datos_Completos', index=False)\n",
    "    criticos.to_excel(writer, sheet_name='Proveedores_Criticos', index=False)\n",
    "    pd.Series(indicadores).to_frame('Valor').to_excel(writer, sheet_name='Indicadores')\n",
    "print('✅ Reporte exportado exitosamente.')"
   ]
  }
 ],
 "metadata": {
  "kernelspec": {
   "display_name": "Python 3",
   "language": "python",
   "name": "python3"
  },
  "language_info": {
   "codemirror_mode": {
    "name": "ipython",
    "version": 3
   },
   "file_extension": ".py",
   "mimetype": "text/x-python",
   "name": "python",
   "nbconvert_exporter": "python",
   "pygments_lexer": "ipython3",
   "version": "3.12.1"
  }
 },
 "nbformat": 4,
 "nbformat_minor": 5
}
